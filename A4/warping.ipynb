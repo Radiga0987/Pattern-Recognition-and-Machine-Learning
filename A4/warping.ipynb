{
 "cells": [
  {
   "cell_type": "code",
   "execution_count": 1,
   "metadata": {},
   "outputs": [],
   "source": [
    "#Importing required libraries\n",
    "import numpy as np\n",
    "import os\n",
    "import matplotlib.pyplot as plt\n",
    "from scipy import signal\n",
    "import math"
   ]
  },
  {
   "cell_type": "code",
   "execution_count": 2,
   "metadata": {},
   "outputs": [],
   "source": [
    "# Isolated Digits\n",
    "digits = [1,2,5,9,'z']\n",
    "train = []\n",
    "dev = []\n",
    "\n",
    "#Loading train and dev data\n",
    "for digit in digits:\n",
    "    lst = []\n",
    "    dir_list = os.listdir('Isolated_Digits//'+str(digit)+'//train')\n",
    "    for file in dir_list:\n",
    "        if file.endswith('.mfcc'):\n",
    "            lst.append(np.loadtxt('Isolated_Digits/'+str(digit)+'/train/' + file,skiprows = 1))\n",
    "\n",
    "    train.append(np.array(lst,dtype=object))\n",
    "\n",
    "    lst = []\n",
    "    dir_list = os.listdir('Isolated_Digits//'+str(digit)+'//dev')\n",
    "    for file in dir_list:\n",
    "        if file.endswith('.mfcc'):\n",
    "            lst.append(np.loadtxt('Isolated_Digits/'+str(digit)+'/dev/' + file,skiprows = 1))\n",
    "\n",
    "    dev.append(np.array(lst,dtype=object))"
   ]
  },
  {
   "cell_type": "code",
   "execution_count": 5,
   "metadata": {},
   "outputs": [
    {
     "name": "stdout",
     "output_type": "stream",
     "text": [
      "103\n"
     ]
    }
   ],
   "source": [
    "print(len(dev[0][1]))"
   ]
  },
  {
   "cell_type": "code",
   "execution_count": null,
   "metadata": {},
   "outputs": [],
   "source": [
    "count = 0\n",
    "num_frames = 0\n",
    "for cls in range(len(train)):\n",
    "    for i in range(len(train[cls])):\n",
    "        num_frames += len(train[cls][i])\n",
    "        count += 1\n",
    "avg_num_frames = math.floor(num_frames/count)"
   ]
  },
  {
   "cell_type": "code",
   "execution_count": null,
   "metadata": {},
   "outputs": [],
   "source": [
    "x = signal.resample(train[0][0],avg_num_frames)\n",
    "print(x)"
   ]
  },
  {
   "cell_type": "code",
   "execution_count": null,
   "metadata": {},
   "outputs": [],
   "source": []
  }
 ],
 "metadata": {
  "interpreter": {
   "hash": "db4b5fba534949474536e70b49beb95b054288be496444c82107b260edb1c537"
  },
  "kernelspec": {
   "display_name": "Python 3.8.3 ('base')",
   "language": "python",
   "name": "python3"
  },
  "language_info": {
   "codemirror_mode": {
    "name": "ipython",
    "version": 3
   },
   "file_extension": ".py",
   "mimetype": "text/x-python",
   "name": "python",
   "nbconvert_exporter": "python",
   "pygments_lexer": "ipython3",
   "version": "3.8.3"
  },
  "orig_nbformat": 4
 },
 "nbformat": 4,
 "nbformat_minor": 2
}
